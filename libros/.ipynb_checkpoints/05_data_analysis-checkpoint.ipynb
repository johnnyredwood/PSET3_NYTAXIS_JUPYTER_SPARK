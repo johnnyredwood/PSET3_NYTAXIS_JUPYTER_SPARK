{
 "cells": [
  {
   "cell_type": "code",
   "execution_count": 1,
   "id": "f6335eac-b4d2-47f9-a3c0-d246c7fa8a16",
   "metadata": {},
   "outputs": [
    {
     "name": "stdout",
     "output_type": "stream",
     "text": [
      "Collecting python-dotenv\n",
      "  Downloading python_dotenv-1.1.1-py3-none-any.whl.metadata (24 kB)\n",
      "Downloading python_dotenv-1.1.1-py3-none-any.whl (20 kB)\n",
      "Installing collected packages: python-dotenv\n",
      "Successfully installed python-dotenv-1.1.1\n"
     ]
    }
   ],
   "source": [
    "!pip install python-dotenv"
   ]
  },
  {
   "cell_type": "code",
   "execution_count": 13,
   "id": "f11198ea-0737-424b-a736-d6c6be70fc1e",
   "metadata": {},
   "outputs": [],
   "source": [
    "from dotenv import load_dotenv\n",
    "import os\n",
    "import pyspark\n",
    "from pyspark.sql import SparkSession\n",
    "from pyspark.sql import functions as F"
   ]
  },
  {
   "cell_type": "code",
   "execution_count": 28,
   "id": "3d06e1f4-fc60-42cc-8413-b58a25e254f5",
   "metadata": {},
   "outputs": [],
   "source": [
    "# Cargo mis variables de entorno\n",
    "load_dotenv()\n",
    "\n",
    "# Genero el dict de datos para conectarme con Snowflake a schema Raw\n",
    "credencialesSnowflakeAnalytics = {\n",
    "    \"sfURL\" : os.getenv(\"SNOWFLAKE_URL\"),\n",
    "    \"sfUser\" :  os.getenv(\"SNOWFLAKE_USER\"),\n",
    "    \"sfPassword\" : os.getenv(\"SNOWFLAKE_PASSWORD\"),\n",
    "    \"sfDatabase\" : os.getenv(\"SNOWFLAKE_DATABASE\"),\n",
    "    \"sfSchema\" : os.getenv(\"SNOWFLAKE_SCHEMA_ANALYTICS\"),\n",
    "    \"sfWarehouse\" : os.getenv(\"SNOWFLAKE_WAREHOUSE\"),\n",
    "    \"sfRole\" : os.getenv(\"SNOWFLAKE_ROLE\"),\n",
    "}\n",
    "\n",
    "print(f\"Estas son mis credenciales para Snowflake con schema Analytics: {credencialesSnowflakeAnalytics}\")"
   ]
  },
  {
   "cell_type": "code",
   "execution_count": 29,
   "id": "d9ec7621-47c0-4d40-92a6-4bb181d8bf0a",
   "metadata": {},
   "outputs": [
    {
     "name": "stdout",
     "output_type": "stream",
     "text": [
      "<pyspark.sql.session.SparkSession object at 0x7453fd883b10>\n",
      "Spark Version : 3.5.0\n",
      "+-------------------+\n",
      "|\"CURRENT_VERSION()\"|\n",
      "+-------------------+\n",
      "|             9.32.1|\n",
      "+-------------------+\n",
      "\n"
     ]
    }
   ],
   "source": [
    "# Creo SparkSession para conexión con Snowflake\n",
    "spark = (SparkSession.builder.appName(\"IngestaNewYorkTaxis\").config(\"spark.jars.packages\", \"net.snowflake:snowflake-jdbc:3.13.30,net.snowflake:spark-snowflake_2.12:2.9.0-spark_3.1\").getOrCreate())\n",
    "\n",
    "print(spark)\n",
    "print(\"Spark Version : \" + spark.version)\n",
    "\n",
    "# Ejecuto una query de prueba para validar comunicacion con Snowflake\n",
    "query = \"SELECT current_version()\"\n",
    "\n",
    "df = spark.read.format(\"snowflake\").options(**credencialesSnowflakeAnalytics).option(\"query\", query).load()\n",
    "\n",
    "df.show()"
   ]
  },
  {
   "cell_type": "code",
   "execution_count": 30,
   "id": "6745abf7-b690-42ed-80bd-0ccedef5b6cd",
   "metadata": {},
   "outputs": [
    {
     "name": "stdout",
     "output_type": "stream",
     "text": [
      "Se cargo correctamente datos de tabla OBT para consultas\n"
     ]
    }
   ],
   "source": [
    "try:\n",
    "    df_obt_taxis = spark.read.format(\"snowflake\") \\\n",
    "                .options(**credencialesSnowflakeAnalytics) \\\n",
    "                .option(\"dbtable\", \"NY_TAXI_OBT_ULTIMATE\") \\\n",
    "                .load()\n",
    "    print(\"Se cargo correctamente datos de tabla OBT para consultas\")\n",
    "    df_obt_taxis.cache()\n",
    "except Exception as e:\n",
    "    print(f\"No se pudo cargar tabla OBT:{e}\")"
   ]
  },
  {
   "cell_type": "code",
   "execution_count": null,
   "id": "0ce17d89-0a36-4176-b733-6dd8c07644f0",
   "metadata": {},
   "outputs": [],
   "source": [
    "#Top 10 zonas de pickup por volumen mensual.\n",
    "\n",
    "df_top_10_pickup=df_obt_taxis.groupBy(\"MONTH\",\"PU_ZONE\").agg(F.count(\"*\").alias(\"Viajes_Mensuales_Por_Zona\")).orderBy(\"Viajes_Mensuales_Por_Zona\",ascending=False).limit(10)\n",
    "df_top_10_pickup.show(10)"
   ]
  },
  {
   "cell_type": "code",
   "execution_count": null,
   "id": "248054da-fc91-4ddc-8f11-7f60016395c1",
   "metadata": {},
   "outputs": [],
   "source": [
    "#Top 10 zonas de dropoff por volumen mensual.\n",
    "\n",
    "df_top_10_dropoff=df_obt_taxis.groupBy(\"MONTH\",\"DO_ZONE\").agg(F.count(\"*\").alias(\"Viajes_Mensuales_Por_Zona\")).orderBy(\"Viajes_Mensuales_Por_Zona\",ascending=False).limit(10)\n",
    "df_top_10_dropoff.show(10)"
   ]
  },
  {
   "cell_type": "code",
   "execution_count": null,
   "id": "42967e36-51b4-4022-8eec-a3d4b3aa86eb",
   "metadata": {},
   "outputs": [],
   "source": [
    "#Evolución mensual de total_amount y tip_pct por borough.\n",
    "\n",
    "df_amount_tip_por_mes=df_obt_taxis.groupBy(\"MONTH\",\"PU_BOROUGH\").agg(F.sum(\"TOTAL_AMOUNT\").alias(\"Total_Amount_Mensual_Por_Borough\"),F.avg(\"TIP_PCT\").alias(\"Tip_Percentage_Avg_Por_Mes\"))\n",
    "df_amount_tip_por_mes.show(truncate=False)"
   ]
  },
  {
   "cell_type": "code",
   "execution_count": null,
   "id": "28f4cdc5-3631-475e-8a85-f225a718cbbd",
   "metadata": {},
   "outputs": [],
   "source": [
    "#Ticket promedio (avg total_amount) por service_type y mes.\n",
    "\n",
    "df_ticket_promedio=df_obt_taxis.groupBy(\"MONTH\",\"SOURCE_SERVICE\").agg(F.avg(\"TOTAL_AMOUNT\").alias(\"Total_Amount_Promedio\"))\n",
    "df_ticket_promedio.show(truncate=False)"
   ]
  },
  {
   "cell_type": "code",
   "execution_count": null,
   "id": "3f2bbd91-69b3-4b22-85e6-fe525f25c3b8",
   "metadata": {},
   "outputs": [],
   "source": [
    "#Viajes por hora del día y día de semana (picos).\n",
    "\n",
    "df_viajes_hora_dia=df_obt_taxis.groupBy(\"DAY_OF_WEEK\",\"PICKUP_HOUR\").agg(F.count(\"*\").alias(\"Viajes_Totales\"))\n",
    "df_viajes_hora_dia.show(truncate=False)"
   ]
  },
  {
   "cell_type": "code",
   "execution_count": null,
   "id": "c0f602b5-64f3-4901-bb06-4dfeff056ae7",
   "metadata": {},
   "outputs": [],
   "source": [
    "#p50/p90 de trip_duration_min por borough de pickup.\n",
    "\n",
    "df_percentiles = df_obt_taxis.groupBy(\"PU_BOROUGH\").agg(F.expr('percentile_approx(TRIP_DURATION_MIN, 0.5)').alias('P50_TRIP_DURATION_MIN'),F.expr('percentile_approx(TRIP_DURATION_MIN, 0.9)').alias('P90_TRIP_DURATION_MIN'))\n",
    "df_percentiles.show(truncate=False)"
   ]
  },
  {
   "cell_type": "code",
   "execution_count": null,
   "id": "05fc6eaa-a9de-43dc-8a93-a5257c645c6f",
   "metadata": {},
   "outputs": [],
   "source": [
    "#avg_speed_mph por franja horaria (6–9, 17–20) y borough.\n",
    "\n",
    "df_avg_speed_franja_hora= df_obt_taxis.groupBy(\"PU_BOROUGH\").agg(F.avg(F.when((F.col(\"PICKUP_HOUR\") >= 6) & (F.col(\"PICKUP_HOUR\") <= 9), F.col(\"AVG_SPEED_MPH\"))).alias(\"AVG_SPEED_MPH_FRANJA_6_9\"),\n",
    "                                                                 F.avg(F.when((F.col(\"PICKUP_HOUR\") >= 17) & (F.col(\"PICKUP_HOUR\") <= 20), F.col(\"AVG_SPEED_MPH\"))).alias(\"AVG_SPEED_MPH_FRANJA_17_20\"))\n",
    "df_avg_speed_franja_hora.show(truncate=False)                                                               "
   ]
  },
  {
   "cell_type": "code",
   "execution_count": null,
   "id": "ac455f1f-4e01-4cbf-b240-57838be66da0",
   "metadata": {},
   "outputs": [],
   "source": [
    "#Participación por payment_type_desc y su relación con tip_pct.\n",
    "\n",
    "df_payment_tip= df_obt_taxis.groupBy(\"PAYMENT_TYPE_NORMALIZADO\").agg(F.avg(\"TIP_PCT\").alias(\"TIP_PERCENTAGE_PROMEDIO\"))\n",
    "df_payment_tip.show(truncate=False)"
   ]
  },
  {
   "cell_type": "code",
   "execution_count": null,
   "id": "a3fdf43e-658a-40c8-9f93-1cc52973b317",
   "metadata": {},
   "outputs": [],
   "source": [
    "#¿Qué rate_code_desc concentran mayor trip_distance y total_amount?\n",
    "\n",
    "df_rate_code= df_obt_taxis.groupBy(\"RATE_CODE_NORMALIZADO\").agg(F.sum(\"TRIP_DISTANCE\").alias(\"TRIP_DISTANCE_ACUMULADO\"),F.sum(\"TOTAL_AMOUNT\").alias(\"TOTAL_AMOUNT_ACUMULADO\"))\n",
    "df_rate_code.show(truncate=False)"
   ]
  },
  {
   "cell_type": "code",
   "execution_count": null,
   "id": "1c460472-208e-4394-aad2-0e3ca1c235d5",
   "metadata": {},
   "outputs": [],
   "source": [
    "#Mix yellow vs green por mes y borough.\n",
    "\n",
    "df_yellow_green= df_obt_taxis.groupBy(\"PU_BOROUGH\",\"SOURCE_SERVICE\").agg(F.count(\"*\").alias(\"VIAJES_TOTALES\"))\n",
    "df_yellow_green.show(truncate=False)"
   ]
  },
  {
   "cell_type": "code",
   "execution_count": null,
   "id": "a7039b0a-f275-4cc1-b256-8497c6fcd00b",
   "metadata": {},
   "outputs": [],
   "source": [
    "#Top 20 flujos PU→DO por volumen y su ticket promedio.\n",
    "\n",
    "df_pu_do= df_obt_taxis.groupBy(\"PU_LOCATION_ID\",\"DO_LOCATION_ID\").agg(F.count(\"*\").alias(\"VIAJES_TOTALES\"),F.avg(\"TOTAL_AMOUNT\").alias(\"TICKET_PROMEDIO\")).orderBy(\"VIAJES_TOTALES\",ascending=False)\n",
    "df_pu_do.show(20)"
   ]
  },
  {
   "cell_type": "code",
   "execution_count": null,
   "id": "3861209d-7d6e-4661-9aad-0e27014d4f66",
   "metadata": {},
   "outputs": [],
   "source": [
    "#Distribución de passenger_count y efecto en total_amount.\n",
    "\n",
    "df_passengers_and_amount= df_obt_taxis.groupBy(\"PASSENGER_COUNT\").agg(F.avg(\"TOTAL_AMOUNT\").alias(\"TOTAL_AMOUNT_PROMEDIO\"))\n",
    "df_passengers_and_amount.show(truncate=False)"
   ]
  },
  {
   "cell_type": "code",
   "execution_count": null,
   "id": "4dc99e66-75ed-4d1a-ad34-ceaf15125372",
   "metadata": {},
   "outputs": [],
   "source": [
    "#Impacto de tolls_amount y congestion_surcharge por zona.\n",
    "\n",
    "df_impacto_zona = (df_obt_taxis.groupBy(\"PU_ZONE\").agg(F.avg(\"TOLLS_AMOUNT\").alias(\"TOLLS_AMOUNT_PROMEDIO\"),F.avg(\"CONGESTION_SURCHARGE\").alias(\"CONGESTION_SURCHARGE_PROMEDIO\"),\n",
    "F.avg(\"TOTAL_AMOUNT\").alias(\"TOTAL_AMOUNT_PROMEDIO\")).withColumn(\"PCT_TOLLS_SOBRE_TOTAL\", F.col(\"TOLLS_AMOUNT_PROMEDIO\") / F.col(\"TOTAL_AMOUNT_PROMEDIO\") * 100)\n",
    "    .withColumn(\"PCT_CONGESTION_OVER_TOTAL\", F.col(\"CONGESTION_SURCHARGE_PROMEDIO\") / F.col(\"TOTAL_AMOUNT_PROMEDIO\") * 100)\n",
    "    .orderBy(F.desc(\"TOLLS_AMOUNT_PROMEDIO\")))\n",
    "df_impacto_zona.show(truncate=False)"
   ]
  },
  {
   "cell_type": "code",
   "execution_count": null,
   "id": "2b95d4d0-a00f-419b-9c25-25ee9198d29f",
   "metadata": {},
   "outputs": [],
   "source": [
    "#Proporción de viajes cortos vs largos por borough y estacionalidad.\n",
    "\n",
    "df_proporcion_por_duracion = df_viajes_tipo.groupBy(\"PU_BOROUGH\", \"MONTH\").agg(F.count(\"*\").alias(\"CANTIDAD_VIAJES\"), F.count(F.when(F.col(\"TRIP_DURATION_MIN\") <= 10, 1)).alias(\"CANTIDAD_VIAJES_CORTOS\"), \n",
    "                                                                                F.count(F.when(F.col(\"TRIP_DURATION_MIN\") > 10, 1)).alias(\"CANTIDAD_VIAJES_LARGOS\")).withColumn(\"PCT_VIAJES_CORTOS\", (F.col(\"CANTIDAD_VIAJES_CORTOS\") / F.col(\"CANTIDAD_VIAJES\"))*100).withColumn(\"PCT_VIAJES_LARGOS\", (F.col(\"CANTIDAD_VIAJES_LARGOS\") / F.col(\"CANTIDAD_VIAJES\"))*100) \n",
    "df_proporcion_por_duracion.show(truncate=False)"
   ]
  },
  {
   "cell_type": "code",
   "execution_count": null,
   "id": "31b24940-11c4-4048-b76f-5ead558ed248",
   "metadata": {},
   "outputs": [],
   "source": [
    "#Diferencias por vendor en avg_speed_mph y trip_duration_min.\n",
    "\n",
    "df_vendor_speed_duration= df_obt_taxis.groupBy(\"VENDOR_NORMALIZADO\").agg(F.avg(\"AVG_SPEED_MPH\").alias(\"SPEED_PROMEDIO\"), F.avg(\"TRIP_DURATION_MIN\").alias(\"TRIP_DURATION_PROMEDIO\"))\n",
    "df_vendor_speed_duration.show(truncate=False)"
   ]
  },
  {
   "cell_type": "code",
   "execution_count": null,
   "id": "a65d4616-9827-4413-81bb-fd3ce427e5ad",
   "metadata": {},
   "outputs": [],
   "source": [
    "#Relación método de pago ↔ tip_amount por hora.\n",
    "\n",
    "df_pago_tip_amount= df_obt_taxis.groupBy(\"PAYMENT_TYPE_NORMALIZADO\").agg(F.avg(\"TIP_AMOUNT\").alias(\"TIP_AMOUNT_PROMEDIO\"))\n",
    "df_pago_tip_amount.show(truncate=False)"
   ]
  },
  {
   "cell_type": "code",
   "execution_count": null,
   "id": "850ad8fc-0a21-4a0e-bc2e-598f6e4c0669",
   "metadata": {},
   "outputs": [],
   "source": [
    "#Zonas con percentil 99 de duración/distancia fuera de rango (posible congestión/eventos).\n",
    "\n",
    "percentiles = df_obt_taxis.select(F.expr(\"percentile_approx(TRIP_DURATION_MIN, 0.99)\").alias(\"P99_TRIP_DURATION_MIN\"),F.expr(\"percentile_approx(TRIP_DISTANCE, 0.99)\").alias(\"P99_TRIP_DISTANCE\")).collect()[0]\n",
    "p99_duration = percentiles[\"P99_TRIP_DURATION_MIN\"]\n",
    "p99_distance = percentiles[\"P99_TRIP_DISTANCE\"]\n",
    "df_fuera_rango = df_obt_taxis.filter((F.col(\"TRIP_DURATION_MIN\") > p99_duration) | (F.col(\"TRIP_DISTANCE\") > p99_distance))\n",
    "df_zonas_fuera_rango = df_fuera_rango.groupBy(\"PU_ZONE\").agg(F.count(1).alias(\"CANTIDAD_VIAJES_FUERA_DE_RANGO\")).orderBy(F.col(\"CANTIDAD_VIAJES_FUERA_DE_RANGO\").desc())\n",
    "df_zonas_fuera_rango.show(10, truncate=False)"
   ]
  },
  {
   "cell_type": "code",
   "execution_count": null,
   "id": "0e573efb-54d2-40fd-9ab4-07b4cbbdfd52",
   "metadata": {},
   "outputs": [],
   "source": [
    "#Yield por milla (total_amount/trip_distance) por borough y hora.\n",
    "\n",
    "df_yield = df_obt_taxis.withColumn(\"YIELD_POR_MILLA\", F.col(\"TOTAL_AMOUNT\") / F.col(\"TRIP_DISTANCE\"))\n",
    "df_yield_por_borough_hora = (df_yield.groupBy(\"PU_BOROUGH\", \"PICKUP_HOUR\").agg(F.avg(\"YIELD_POR_MILLA\").alias(\"YIELD_PROMEDIO_POR_MILLA\"),F.count(1).alias(\"CANTIDAD_VIAJES\")))\n",
    "df_yield_por_borough_hora.show(truncate=False)"
   ]
  },
  {
   "cell_type": "code",
   "execution_count": null,
   "id": "b2be88c5-d17b-4def-944b-40ffc37c3bd3",
   "metadata": {},
   "outputs": [],
   "source": [
    "#Cambios YoY en volumen y ticket promedio por service_type.\n",
    "\n",
    "df_service_year = (df_obt_taxis.groupBy(\"SOURCE_SERVICE\", \"YEAR\").agg(F.count(\"*\").alias(\"CANTIDAD_VIAJES\"),F.avg(\"TOTAL_AMOUNT\").alias(\"PROMEDIO_TOTAL_AMOUNT\")))\n",
    "window_spec = Window.partitionBy(\"SOURCE_SERVICE\").orderBy(\"YEAR\")\n",
    "df_yoy = (df_service_year.withColumn(\"CAMBIO_VIAJES_YOY\", (F.col(\"CANTIDAD_VIAJES\") - F.lag(\"CANTIDAD_VIAJES\").over(window_spec)) / F.lag(\"CANTIDAD_VIAJES\").over(window_spec) * 100).withColumn(\"CAMBIO_TICKET_YOY\", (F.col(\"PROMEDIO_TOTAL_AMOUNT\") - F.lag(\"PROMEDIO_TOTAL_AMOUNT\").over(window_spec)) / F.lag(\"PROMEDIO_TOTAL_AMOUNT\").over(window_spec) * 100))\n",
    "df_yoy.show(truncate=False)"
   ]
  },
  {
   "cell_type": "code",
   "execution_count": null,
   "id": "5f7d84f2-06c8-43ac-81b0-dcea42217ab4",
   "metadata": {},
   "outputs": [],
   "source": [
    "#Días con alta congestion_surcharge: efecto en total_amount vs días “normales”\n",
    "\n",
    "#Se pone valor como umbral\n",
    "df_congestion = df_obt_taxis.withColumn(\"TIPO_DIA_CONGESTION\",F.when(F.col(\"CONGESTION_SURCHARGE\") > 2.5, F.lit(\"ALTA\")).otherwise(F.lit(\"NORMAL\")))\n",
    "df_efecto_congestion = (df_congestion.groupBy(\"TIPO_DIA_CONGESTION\").agg( F.count(\"*\").alias(\"CANTIDAD_VIAJES\"),F.avg(\"TOTAL_AMOUNT\").alias(\"PROMEDIO_TOTAL_AMOUNT\")))"
   ]
  }
 ],
 "metadata": {
  "kernelspec": {
   "display_name": "Python 3 (ipykernel)",
   "language": "python",
   "name": "python3"
  },
  "language_info": {
   "codemirror_mode": {
    "name": "ipython",
    "version": 3
   },
   "file_extension": ".py",
   "mimetype": "text/x-python",
   "name": "python",
   "nbconvert_exporter": "python",
   "pygments_lexer": "ipython3",
   "version": "3.11.6"
  }
 },
 "nbformat": 4,
 "nbformat_minor": 5
}
