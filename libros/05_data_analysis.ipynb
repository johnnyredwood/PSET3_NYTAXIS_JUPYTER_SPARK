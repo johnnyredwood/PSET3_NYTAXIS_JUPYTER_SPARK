{
 "cells": [
  {
   "cell_type": "code",
   "execution_count": 1,
   "id": "f6335eac-b4d2-47f9-a3c0-d246c7fa8a16",
   "metadata": {},
   "outputs": [
    {
     "name": "stdout",
     "output_type": "stream",
     "text": [
      "Collecting python-dotenv\n",
      "  Downloading python_dotenv-1.1.1-py3-none-any.whl.metadata (24 kB)\n",
      "Downloading python_dotenv-1.1.1-py3-none-any.whl (20 kB)\n",
      "Installing collected packages: python-dotenv\n",
      "Successfully installed python-dotenv-1.1.1\n"
     ]
    }
   ],
   "source": [
    "!pip install python-dotenv"
   ]
  },
  {
   "cell_type": "code",
   "execution_count": 2,
   "id": "f11198ea-0737-424b-a736-d6c6be70fc1e",
   "metadata": {},
   "outputs": [],
   "source": [
    "from dotenv import load_dotenv\n",
    "import os\n",
    "import pyspark\n",
    "from pyspark.sql import SparkSession\n",
    "from pyspark.sql import functions as F\n",
    "import pandas as pd"
   ]
  },
  {
   "cell_type": "code",
   "execution_count": 3,
   "id": "3d06e1f4-fc60-42cc-8413-b58a25e254f5",
   "metadata": {},
   "outputs": [
    {
     "name": "stdout",
     "output_type": "stream",
     "text": [
      "Estas son mis credenciales para Snowflake con schema Analytics: {'sfURL': 'DXNHVFP-EFC53756.snowflakecomputing.com', 'sfUser': 'usuario_spark', 'sfPassword': 'EstudianteEstudiante64', 'sfDatabase': 'NY_TAXI', 'sfSchema': 'ANALYTICS', 'sfWarehouse': 'WAREHOUSE_TAXIS', 'sfRole': 'rol_pocos_privilegios'}\n"
     ]
    }
   ],
   "source": [
    "# Cargo mis variables de entorno\n",
    "load_dotenv()\n",
    "\n",
    "# Genero el dict de datos para conectarme con Snowflake a schema Raw\n",
    "credencialesSnowflakeAnalytics = {\n",
    "    \"sfURL\" : os.getenv(\"SNOWFLAKE_URL\"),\n",
    "    \"sfUser\" :  os.getenv(\"SNOWFLAKE_USER\"),\n",
    "    \"sfPassword\" : os.getenv(\"SNOWFLAKE_PASSWORD\"),\n",
    "    \"sfDatabase\" : os.getenv(\"SNOWFLAKE_DATABASE\"),\n",
    "    \"sfSchema\" : os.getenv(\"SNOWFLAKE_SCHEMA_ANALYTICS\"),\n",
    "    \"sfWarehouse\" : os.getenv(\"SNOWFLAKE_WAREHOUSE\"),\n",
    "    \"sfRole\" : os.getenv(\"SNOWFLAKE_ROLE\"),\n",
    "}\n",
    "\n",
    "print(f\"Estas son mis credenciales para Snowflake con schema Analytics: {credencialesSnowflakeAnalytics}\")"
   ]
  },
  {
   "cell_type": "code",
   "execution_count": 4,
   "id": "d9ec7621-47c0-4d40-92a6-4bb181d8bf0a",
   "metadata": {},
   "outputs": [
    {
     "name": "stdout",
     "output_type": "stream",
     "text": [
      "<pyspark.sql.session.SparkSession object at 0x757c51e50910>\n",
      "Spark Version : 3.5.0\n",
      "+-------------------+\n",
      "|\"CURRENT_VERSION()\"|\n",
      "+-------------------+\n",
      "|             9.32.1|\n",
      "+-------------------+\n",
      "\n"
     ]
    }
   ],
   "source": [
    "# Creo SparkSession para conexión con Snowflake\n",
    "spark = (SparkSession.builder.appName(\"IngestaNewYorkTaxis\").config(\"spark.jars.packages\", \"net.snowflake:snowflake-jdbc:3.13.30,net.snowflake:spark-snowflake_2.12:2.9.0-spark_3.1\").getOrCreate())\n",
    "\n",
    "print(spark)\n",
    "print(\"Spark Version : \" + spark.version)\n",
    "\n",
    "# Ejecuto una query de prueba para validar comunicacion con Snowflake\n",
    "query = \"SELECT current_version()\"\n",
    "\n",
    "df = spark.read.format(\"snowflake\").options(**credencialesSnowflakeAnalytics).option(\"query\", query).load()\n",
    "\n",
    "df.show()"
   ]
  },
  {
   "cell_type": "code",
   "execution_count": 5,
   "id": "6745abf7-b690-42ed-80bd-0ccedef5b6cd",
   "metadata": {},
   "outputs": [
    {
     "name": "stdout",
     "output_type": "stream",
     "text": [
      "Se cargo correctamente datos de tabla OBT para consultas\n",
      "813032013\n"
     ]
    }
   ],
   "source": [
    "try:\n",
    "    df_obt_taxis = spark.read.format(\"snowflake\") \\\n",
    "                .options(**credencialesSnowflakeAnalytics) \\\n",
    "                .option(\"dbtable\", \"NY_TAXI_OBT_ULTIMATE\") \\\n",
    "                .load()\n",
    "    print(\"Se cargo correctamente datos de tabla OBT para consultas\")\n",
    "    print(df_obt_taxis.count())\n",
    "except Exception as e:\n",
    "    print(f\"No se pudo cargar tabla OBT:{e}\")"
   ]
  },
  {
   "cell_type": "code",
   "execution_count": 6,
   "id": "111d9f80-ff2e-4e0a-95ea-e4781bae398e",
   "metadata": {},
   "outputs": [
    {
     "name": "stdout",
     "output_type": "stream",
     "text": [
      "+-----+---------------------+-------------------------+\n",
      "|MONTH|PU_ZONE              |Viajes_Mensuales_Por_Zona|\n",
      "+-----+---------------------+-------------------------+\n",
      "|5    |Upper East Side South|2912807                  |\n",
      "|1    |Upper East Side South|2825330                  |\n",
      "|4    |Upper East Side South|2781522                  |\n",
      "|3    |Upper East Side South|2781380                  |\n",
      "|10   |Upper East Side South|2757085                  |\n",
      "|3    |Midtown Center       |2747117                  |\n",
      "|1    |Upper East Side North|2702733                  |\n",
      "|2    |Upper East Side South|2698617                  |\n",
      "|6    |Upper East Side South|2656560                  |\n",
      "|1    |Midtown Center       |2655556                  |\n",
      "+-----+---------------------+-------------------------+\n",
      "\n"
     ]
    }
   ],
   "source": [
    "#Top 10 zonas de pickup por volumen mensual.\n",
    "\n",
    "df_top_10_pickup=df_obt_taxis.groupBy(\"MONTH\",\"PU_ZONE\").agg(F.count(\"*\").alias(\"Viajes_Mensuales_Por_Zona\")).orderBy(\"Viajes_Mensuales_Por_Zona\",ascending=False).limit(10)\n",
    "df_top_10_pickup.show(truncate=False)"
   ]
  },
  {
   "cell_type": "code",
   "execution_count": 7,
   "id": "248054da-fc91-4ddc-8f11-7f60016395c1",
   "metadata": {},
   "outputs": [
    {
     "name": "stdout",
     "output_type": "stream",
     "text": [
      "+-----+---------------------+-------------------------+\n",
      "|MONTH|DO_ZONE              |Viajes_Mensuales_Por_Zona|\n",
      "+-----+---------------------+-------------------------+\n",
      "|1    |Upper East Side North|2849889                  |\n",
      "|5    |Upper East Side North|2756013                  |\n",
      "|3    |Upper East Side North|2697999                  |\n",
      "|2    |Upper East Side North|2680467                  |\n",
      "|4    |Upper East Side North|2671567                  |\n",
      "|10   |Upper East Side North|2634008                  |\n",
      "|3    |Midtown Center       |2619012                  |\n",
      "|5    |Upper East Side South|2589130                  |\n",
      "|1    |Upper East Side South|2528147                  |\n",
      "|1    |Midtown Center       |2519808                  |\n",
      "+-----+---------------------+-------------------------+\n",
      "\n"
     ]
    }
   ],
   "source": [
    "#Top 10 zonas de dropoff por volumen mensual.\n",
    "\n",
    "df_top_10_dropoff=df_obt_taxis.groupBy(\"MONTH\",\"DO_ZONE\").agg(F.count(\"*\").alias(\"Viajes_Mensuales_Por_Zona\")).orderBy(\"Viajes_Mensuales_Por_Zona\",ascending=False).limit(10)\n",
    "df_top_10_dropoff.show(truncate=False)"
   ]
  },
  {
   "cell_type": "code",
   "execution_count": 8,
   "id": "42967e36-51b4-4022-8eec-a3d4b3aa86eb",
   "metadata": {},
   "outputs": [
    {
     "name": "stdout",
     "output_type": "stream",
     "text": [
      "+-----+-------------+--------------------------------+--------------------------+\n",
      "|MONTH|PU_BOROUGH   |Total_Amount_Mensual_Por_Borough|Tip_Percentage_Avg_Por_Mes|\n",
      "+-----+-------------+--------------------------------+--------------------------+\n",
      "|11   |Queens       |2.1357763931000906E8            |9.122942264420072         |\n",
      "|4    |Unknown      |1.351250497999989E7             |10.393555994135419        |\n",
      "|5    |Staten Island|132764.51                       |4.843937952329194         |\n",
      "|1    |N/A          |576414.9500000003               |8.145481499495833         |\n",
      "|1    |Bronx        |5831635.650000129               |2.1747138718037875        |\n",
      "|1    |Manhattan    |9.519660447390596E8             |10.715967860219795        |\n",
      "|5    |N/A          |655094.3800000006               |8.262361418609373         |\n",
      "|4    |Staten Island|143854.34000000003              |5.3619165448994           |\n",
      "|4    |Queens       |2.383825879000098E8             |8.890324087934674         |\n",
      "|5    |Bronx        |6736685.160000232               |2.4323468533721253        |\n",
      "|5    |Brooklyn     |5.299198244000451E7             |8.893034603862535         |\n",
      "|10   |Manhattan    |9.567430538304497E8             |10.748068529517315        |\n",
      "|6    |EWR          |40650.39000000003               |8.667265009660396         |\n",
      "|1    |Queens       |2.2444587630001068E8            |8.79967682433034          |\n",
      "|10   |Unknown      |1.2986350599999832E7            |10.582096102290341        |\n",
      "|4    |Manhattan    |9.899480387196681E8             |10.66179436147762         |\n",
      "|11   |Bronx        |4817557.980000093               |2.4910187083428807        |\n",
      "|6    |Queens       |2.4967871844999272E8            |8.915160907028957         |\n",
      "|7    |Staten Island|150276.49999999994              |4.322969343597611         |\n",
      "|4    |Bronx        |6515780.910000135               |2.3907240209496723        |\n",
      "+-----+-------------+--------------------------------+--------------------------+\n",
      "only showing top 20 rows\n",
      "\n"
     ]
    }
   ],
   "source": [
    "#Evolución mensual de total_amount y tip_pct por borough.\n",
    "\n",
    "df_amount_tip_por_mes=df_obt_taxis.groupBy(\"MONTH\",\"PU_BOROUGH\").agg(F.sum(\"TOTAL_AMOUNT\").alias(\"Total_Amount_Mensual_Por_Borough\"),F.avg(\"TIP_PCT\").alias(\"Tip_Percentage_Avg_Por_Mes\"))\n",
    "df_amount_tip_por_mes.show(truncate=False)"
   ]
  },
  {
   "cell_type": "code",
   "execution_count": 9,
   "id": "28f4cdc5-3631-475e-8a85-f225a718cbbd",
   "metadata": {},
   "outputs": [
    {
     "name": "stdout",
     "output_type": "stream",
     "text": [
      "+-----+--------------+---------------------+\n",
      "|MONTH|SOURCE_SERVICE|Total_Amount_Promedio|\n",
      "+-----+--------------+---------------------+\n",
      "|2    |yellow        |17.68252079724796    |\n",
      "|6    |yellow        |19.067894111715923   |\n",
      "|10   |yellow        |18.777449144136156   |\n",
      "|3    |yellow        |18.266701799678643   |\n",
      "|6    |green         |15.539750050668545   |\n",
      "|12   |yellow        |18.603408843212648   |\n",
      "|10   |green         |15.424860715358566   |\n",
      "|1    |green         |14.774939511845796   |\n",
      "|1    |yellow        |17.299166892871135   |\n",
      "|5    |green         |15.566530356254617   |\n",
      "|3    |green         |14.955538694316838   |\n",
      "|4    |green         |15.147751741305306   |\n",
      "|12   |green         |15.053053966331479   |\n",
      "|5    |yellow        |19.09619490295871    |\n",
      "|4    |yellow        |18.503571447240827   |\n",
      "|2    |green         |14.763832264674505   |\n",
      "|8    |green         |15.508258907639338   |\n",
      "|11   |green         |15.204317067416701   |\n",
      "|8    |yellow        |18.84944809830649    |\n",
      "|11   |yellow        |18.596798527394238   |\n",
      "+-----+--------------+---------------------+\n",
      "only showing top 20 rows\n",
      "\n"
     ]
    }
   ],
   "source": [
    "#Ticket promedio (avg total_amount) por service_type y mes.\n",
    "\n",
    "df_ticket_promedio=df_obt_taxis.groupBy(\"MONTH\",\"SOURCE_SERVICE\").agg(F.avg(\"TOTAL_AMOUNT\").alias(\"Total_Amount_Promedio\"))\n",
    "df_ticket_promedio.show(truncate=False)"
   ]
  },
  {
   "cell_type": "code",
   "execution_count": 10,
   "id": "3f2bbd91-69b3-4b22-85e6-fe525f25c3b8",
   "metadata": {},
   "outputs": [
    {
     "name": "stdout",
     "output_type": "stream",
     "text": [
      "+-----------+-----------+--------------+\n",
      "|DAY_OF_WEEK|PICKUP_HOUR|Viajes_Totales|\n",
      "+-----------+-----------+--------------+\n",
      "|3          |8          |6198868       |\n",
      "|4          |21         |7281791       |\n",
      "|3          |20         |6984362       |\n",
      "|6          |16         |6016595       |\n",
      "|7          |4          |1846307       |\n",
      "|5          |9          |6123703       |\n",
      "|5          |8          |6333495       |\n",
      "|4          |11         |5832135       |\n",
      "|5          |16         |6003255       |\n",
      "|4          |13         |6115441       |\n",
      "|7          |17         |6782953       |\n",
      "|1          |22         |4152874       |\n",
      "|4          |7          |5138664       |\n",
      "|6          |20         |7056103       |\n",
      "|1          |3          |3272816       |\n",
      "|6          |0          |4235603       |\n",
      "|3          |2          |735436        |\n",
      "|4          |8          |6350295       |\n",
      "|6          |1          |2702549       |\n",
      "|1          |6          |1104567       |\n",
      "+-----------+-----------+--------------+\n",
      "only showing top 20 rows\n",
      "\n"
     ]
    }
   ],
   "source": [
    "#Viajes por hora del día y día de semana (picos).\n",
    "\n",
    "df_viajes_hora_dia=df_obt_taxis.groupBy(\"DAY_OF_WEEK\",\"PICKUP_HOUR\").agg(F.count(\"*\").alias(\"Viajes_Totales\"))\n",
    "df_viajes_hora_dia.show(truncate=False)"
   ]
  },
  {
   "cell_type": "code",
   "execution_count": 11,
   "id": "c0f602b5-64f3-4901-bb06-4dfeff056ae7",
   "metadata": {},
   "outputs": [
    {
     "name": "stdout",
     "output_type": "stream",
     "text": [
      "+-------------+---------------------+---------------------+\n",
      "|PU_BOROUGH   |P50_TRIP_DURATION_MIN|P90_TRIP_DURATION_MIN|\n",
      "+-------------+---------------------+---------------------+\n",
      "|Queens       |25.2                 |54.483333333333334   |\n",
      "|EWR          |8.316666666666666    |56.06666666666667    |\n",
      "|Unknown      |11.416666666666666   |28.866666666666667   |\n",
      "|Brooklyn     |12.466666666666667   |30.55                |\n",
      "|Staten Island|28.316666666666666   |74.18333333333334    |\n",
      "|N/A          |12.016666666666667   |41.4                 |\n",
      "|Manhattan    |10.783333333333333   |24.866666666666667   |\n",
      "|Bronx        |12.583333333333334   |35.7                 |\n",
      "+-------------+---------------------+---------------------+\n",
      "\n"
     ]
    }
   ],
   "source": [
    "#p50/p90 de trip_duration_min por borough de pickup.\n",
    "\n",
    "df_percentiles = df_obt_taxis.groupBy(\"PU_BOROUGH\").agg(F.expr('percentile_approx(TRIP_DURATION_MIN, 0.5)').alias('P50_TRIP_DURATION_MIN'),F.expr('percentile_approx(TRIP_DURATION_MIN, 0.9)').alias('P90_TRIP_DURATION_MIN'))\n",
    "df_percentiles.show(truncate=False)"
   ]
  },
  {
   "cell_type": "code",
   "execution_count": 12,
   "id": "05fc6eaa-a9de-43dc-8a93-a5257c645c6f",
   "metadata": {},
   "outputs": [
    {
     "name": "stdout",
     "output_type": "stream",
     "text": [
      "+-------------+------------------------+--------------------------+\n",
      "|PU_BOROUGH   |AVG_SPEED_MPH_FRANJA_6_9|AVG_SPEED_MPH_FRANJA_17_20|\n",
      "+-------------+------------------------+--------------------------+\n",
      "|Queens       |18.440068232894614      |18.842744858808093        |\n",
      "|EWR          |20.86101789368879       |21.272504425523284        |\n",
      "|Unknown      |11.951832673137515      |10.889114209008534        |\n",
      "|Brooklyn     |13.106931697663832      |11.261717155784128        |\n",
      "|Staten Island|20.520584615984472      |20.458713644964973        |\n",
      "|N/A          |18.808947092660794      |17.25272758113177         |\n",
      "|Manhattan    |11.402220311166971      |9.998196846171018         |\n",
      "|Bronx        |13.459353612523852      |12.569569889951303        |\n",
      "+-------------+------------------------+--------------------------+\n",
      "\n"
     ]
    }
   ],
   "source": [
    "#avg_speed_mph por franja horaria (6–9, 17–20) y borough.\n",
    "\n",
    "df_avg_speed_franja_hora= df_obt_taxis.groupBy(\"PU_BOROUGH\").agg(F.avg(F.when((F.col(\"PICKUP_HOUR\") >= 6) & (F.col(\"PICKUP_HOUR\") <= 9), F.col(\"AVG_SPEED_MPH\"))).alias(\"AVG_SPEED_MPH_FRANJA_6_9\"),\n",
    "                                                                 F.avg(F.when((F.col(\"PICKUP_HOUR\") >= 17) & (F.col(\"PICKUP_HOUR\") <= 20), F.col(\"AVG_SPEED_MPH\"))).alias(\"AVG_SPEED_MPH_FRANJA_17_20\"))\n",
    "df_avg_speed_franja_hora.show(truncate=False)                                                               "
   ]
  },
  {
   "cell_type": "code",
   "execution_count": 13,
   "id": "ac455f1f-4e01-4cbf-b240-57838be66da0",
   "metadata": {},
   "outputs": [
    {
     "name": "stdout",
     "output_type": "stream",
     "text": [
      "+------------------------+-----------------------+\n",
      "|PAYMENT_TYPE_NORMALIZADO|TIP_PERCENTAGE_PROMEDIO|\n",
      "+------------------------+-----------------------+\n",
      "|Unknown                 |0.13478461581594878    |\n",
      "|Cash                    |4.926361093605739E-4   |\n",
      "|Dispute                 |0.021482159622660927   |\n",
      "|No charge               |0.01650348833553887    |\n",
      "|Credit card             |15.08882316859497      |\n",
      "+------------------------+-----------------------+\n",
      "\n"
     ]
    }
   ],
   "source": [
    "#Participación por payment_type_desc y su relación con tip_pct.\n",
    "\n",
    "df_payment_tip= df_obt_taxis.groupBy(\"PAYMENT_TYPE_NORMALIZADO\").agg(F.avg(\"TIP_PCT\").alias(\"TIP_PERCENTAGE_PROMEDIO\"))\n",
    "df_payment_tip.show(truncate=False)"
   ]
  },
  {
   "cell_type": "code",
   "execution_count": 14,
   "id": "a3fdf43e-658a-40c8-9f93-1cc52973b317",
   "metadata": {},
   "outputs": [
    {
     "name": "stdout",
     "output_type": "stream",
     "text": [
      "+---------------------+-----------------------+----------------------+\n",
      "|RATE_CODE_NORMALIZADO|TRIP_DISTANCE_ACUMULADO|TOTAL_AMOUNT_ACUMULADO|\n",
      "+---------------------+-----------------------+----------------------+\n",
      "|Negotiated fare      |2.5632549419999998E7   |1.5371499788999826E8  |\n",
      "|Nassau or Westchester|1.3144986409999996E7   |6.842887901999949E7   |\n",
      "|Unknown              |9013121.389999995      |4.031903173000019E7   |\n",
      "|Newark               |2.7214186490000002E7   |1.555342989599984E8   |\n",
      "|Standard rate        |2.0815318190199568E9   |1.310971785348881E10  |\n",
      "|Group ride           |3377.8                 |41445.009999999966    |\n",
      "|JFK                  |3.3018326846000004E8   |1.314904539819577E9   |\n",
      "+---------------------+-----------------------+----------------------+\n",
      "\n"
     ]
    }
   ],
   "source": [
    "#¿Qué rate_code_desc concentran mayor trip_distance y total_amount?\n",
    "\n",
    "df_rate_code= df_obt_taxis.groupBy(\"RATE_CODE_NORMALIZADO\").agg(F.sum(\"TRIP_DISTANCE\").alias(\"TRIP_DISTANCE_ACUMULADO\"),F.sum(\"TOTAL_AMOUNT\").alias(\"TOTAL_AMOUNT_ACUMULADO\"))\n",
    "df_rate_code.show(truncate=False)"
   ]
  },
  {
   "cell_type": "code",
   "execution_count": 15,
   "id": "1c460472-208e-4394-aad2-0e3ca1c235d5",
   "metadata": {},
   "outputs": [
    {
     "name": "stdout",
     "output_type": "stream",
     "text": [
      "+-------------+--------------+--------------+\n",
      "|PU_BOROUGH   |SOURCE_SERVICE|VIAJES_TOTALES|\n",
      "+-------------+--------------+--------------+\n",
      "|Unknown      |green         |34919         |\n",
      "|N/A          |yellow        |133097        |\n",
      "|EWR          |yellow        |5572          |\n",
      "|Staten Island|green         |12716         |\n",
      "|Queens       |green         |17961921      |\n",
      "|Queens       |yellow        |49361792      |\n",
      "|Brooklyn     |green         |21980562      |\n",
      "|Manhattan    |yellow        |680377308     |\n",
      "|Manhattan    |green         |20732230      |\n",
      "|N/A          |green         |17572         |\n",
      "|Bronx        |yellow        |780195        |\n",
      "|Unknown      |yellow        |8731149       |\n",
      "|Bronx        |green         |3169121       |\n",
      "|Brooklyn     |yellow        |9711718       |\n",
      "|Staten Island|yellow        |21982         |\n",
      "|EWR          |green         |159           |\n",
      "+-------------+--------------+--------------+\n",
      "\n"
     ]
    }
   ],
   "source": [
    "#Mix yellow vs green por mes y borough.\n",
    "\n",
    "df_yellow_green= df_obt_taxis.groupBy(\"PU_BOROUGH\",\"SOURCE_SERVICE\").agg(F.count(\"*\").alias(\"VIAJES_TOTALES\"))\n",
    "df_yellow_green.show(truncate=False)"
   ]
  },
  {
   "cell_type": "code",
   "execution_count": 16,
   "id": "a7039b0a-f275-4cc1-b256-8497c6fcd00b",
   "metadata": {},
   "outputs": [
    {
     "name": "stdout",
     "output_type": "stream",
     "text": [
      "+--------------+--------------+--------------+------------------+\n",
      "|PU_LOCATION_ID|DO_LOCATION_ID|VIAJES_TOTALES|   TICKET_PROMEDIO|\n",
      "+--------------+--------------+--------------+------------------+\n",
      "|           264|           264|       7068810|16.568227703118726|\n",
      "|           237|           236|       4382649|10.318373517931079|\n",
      "|           236|           237|       3738587|11.110493239822585|\n",
      "|           236|           236|       3352999| 8.405734481278307|\n",
      "|           237|           237|       3215383| 8.940615401024205|\n",
      "|           239|           238|       1955272| 8.888066831621796|\n",
      "|           239|           142|       1939879| 9.415928034685882|\n",
      "|           237|           161|       1878751|12.110161575427949|\n",
      "|           237|           162|       1877525| 10.69889138093909|\n",
      "|           142|           239|       1857159| 9.877218024950237|\n",
      "|           161|           237|       1798585|11.741787694213826|\n",
      "|           238|           239|       1683858|  8.83833200305508|\n",
      "|           141|           236|       1664535|10.098907088165323|\n",
      "|           186|           230|       1629719|12.508774850141396|\n",
      "|           186|           161|       1618991|13.132948991067552|\n",
      "|           230|           186|       1502527|10.798544392213568|\n",
      "|           237|           141|       1490086| 9.275618863609683|\n",
      "|           107|           170|       1477369|10.306107797036493|\n",
      "|           141|           237|       1435521| 9.796263523836334|\n",
      "|           263|           236|       1431436| 8.548116981828834|\n",
      "+--------------+--------------+--------------+------------------+\n",
      "only showing top 20 rows\n",
      "\n"
     ]
    }
   ],
   "source": [
    "#Top 20 flujos PU→DO por volumen y su ticket promedio.\n",
    "\n",
    "df_pu_do= df_obt_taxis.groupBy(\"PU_LOCATION_ID\",\"DO_LOCATION_ID\").agg(F.count(\"*\").alias(\"VIAJES_TOTALES\"),F.avg(\"TOTAL_AMOUNT\").alias(\"TICKET_PROMEDIO\")).orderBy(\"VIAJES_TOTALES\",ascending=False)\n",
    "df_pu_do.show(20)"
   ]
  },
  {
   "cell_type": "code",
   "execution_count": 17,
   "id": "3861209d-7d6e-4661-9aad-0e27014d4f66",
   "metadata": {},
   "outputs": [
    {
     "name": "stdout",
     "output_type": "stream",
     "text": [
      "+---------------+---------------------+\n",
      "|PASSENGER_COUNT|TOTAL_AMOUNT_PROMEDIO|\n",
      "+---------------+---------------------+\n",
      "|1              |18.073842688217383   |\n",
      "|9              |75.23325092707043    |\n",
      "|4              |19.660885126454446   |\n",
      "|7              |50.32720714285714    |\n",
      "|8              |57.46265167007499    |\n",
      "|3              |18.873019687466034   |\n",
      "|2              |19.42674953052388    |\n",
      "|5              |17.036894951985776   |\n",
      "|6              |16.880792399920196   |\n",
      "+---------------+---------------------+\n",
      "\n"
     ]
    }
   ],
   "source": [
    "#Distribución de passenger_count y efecto en total_amount.\n",
    "\n",
    "df_passengers_and_amount= df_obt_taxis.groupBy(\"PASSENGER_COUNT\").agg(F.avg(\"TOTAL_AMOUNT\").alias(\"TOTAL_AMOUNT_PROMEDIO\"))\n",
    "df_passengers_and_amount.show(truncate=False)"
   ]
  },
  {
   "cell_type": "code",
   "execution_count": 18,
   "id": "4dc99e66-75ed-4d1a-ad34-ceaf15125372",
   "metadata": {},
   "outputs": [
    {
     "name": "stdout",
     "output_type": "stream",
     "text": [
      "+---------------------------------+---------------------+-----------------------------+---------------------+---------------------+-------------------------+\n",
      "|PU_ZONE                          |TOLLS_AMOUNT_PROMEDIO|CONGESTION_SURCHARGE_PROMEDIO|TOTAL_AMOUNT_PROMEDIO|PCT_TOLLS_SOBRE_TOTAL|PCT_CONGESTION_OVER_TOTAL|\n",
      "+---------------------------------+---------------------+-----------------------------+---------------------+---------------------+-------------------------+\n",
      "|Arden Heights                    |12.356260213702077   |0.14430604982206405          |83.58190446260215    |14.783415493039831   |0.17265226336955777      |\n",
      "|Arrochar/Fort Wadsworth          |8.432450791200312    |0.13073593073593073          |35.198984947896605   |23.956516938435783   |0.3714196046546597       |\n",
      "|Bloomfield/Emerson Hill          |7.14049686847599     |0.05121055495103373          |71.09724217119       |10.043282482438482   |0.07202889083619793      |\n",
      "|Charleston/Tottenville           |6.998537586860397    |0.0074875207986688855        |92.82375236891977    |7.539597795018381    |0.008066384527217127     |\n",
      "|Newark Airport                   |6.488618042226486    |0.28650396328744265          |78.3507660094224     |8.28149917697827     |0.3656683627738725       |\n",
      "|Eltingville/Annadale/Prince's Bay|6.080967741935482    |0.142                        |63.21884792626722    |9.618915784463166    |0.22461655765321129      |\n",
      "|South Beach/Dongan Hills         |5.788008255933954    |0.11534446764091857          |46.9017956656347     |12.340696499547608   |0.2459276153587278       |\n",
      "|Rossville/Woodrow                |5.717076023391814    |0.11061946902654868          |82.55292397660816    |6.925346490466867    |0.1339982446386676       |\n",
      "|Great Kills                      |5.471291390728472    |0.18714285714285714          |53.82251655629135    |10.165432129146568   |0.3477036547466711       |\n",
      "|Grymes Hill/Clifton              |4.748475826972012    |0.07798784604996624          |43.2427989821883     |10.980963163202983   |0.18034874681005136      |\n",
      "|Oakwood                          |4.513480176211455    |0.34146341463414637          |54.23731277533036    |8.321725294370399    |0.629572884719797        |\n",
      "|Mariners Harbor                  |4.435395277207392    |0.08093525179856115          |47.788801334702306   |9.281244043228568    |0.16936028847367054      |\n",
      "|New Dorp/Midland Beach           |4.356816406249995    |0.23195876288659795          |44.85640624999994    |9.712807535155584    |0.5171140139801063       |\n",
      "|Randalls Island                  |4.152379901058913    |1.2205560762261793           |48.33163457214116    |8.591432791003486    |2.525377192456305        |\n",
      "|Baisley Park                     |4.027043859113659    |1.4469633790379945           |63.307419881577225   |6.3610930071809      |2.285614200902015        |\n",
      "|LaGuardia Airport                |3.8782397368828314   |1.5548073646241642           |47.20456127810188    |8.215815658225258    |3.293765099232978        |\n",
      "|Westerleigh                      |3.792214212152418    |0.32065217391304346          |43.5109062821833     |8.715548666255295    |0.7369466676550083       |\n",
      "|East Elmhurst                    |3.7137710513903412   |1.5243448915586781           |50.805050719119414   |7.309846164552182    |3.0003806117351695       |\n",
      "|Freshkills Park                  |3.653293172690762    |0.14204545454545456          |74.25510040160636    |4.919922204578596    |0.19129386907728388      |\n",
      "|Heartland Village/Todt Hill      |3.4491513761467893   |0.2914466737064414           |52.550751146789054   |6.56346731659903     |0.5546003955154679       |\n",
      "+---------------------------------+---------------------+-----------------------------+---------------------+---------------------+-------------------------+\n",
      "only showing top 20 rows\n",
      "\n"
     ]
    }
   ],
   "source": [
    "#Impacto de tolls_amount y congestion_surcharge por zona.\n",
    "\n",
    "df_impacto_zona = (df_obt_taxis.groupBy(\"PU_ZONE\").agg(F.avg(\"TOLLS_AMOUNT\").alias(\"TOLLS_AMOUNT_PROMEDIO\"),F.avg(\"CONGESTION_SURCHARGE\").alias(\"CONGESTION_SURCHARGE_PROMEDIO\"),\n",
    "F.avg(\"TOTAL_AMOUNT\").alias(\"TOTAL_AMOUNT_PROMEDIO\")).withColumn(\"PCT_TOLLS_SOBRE_TOTAL\", F.col(\"TOLLS_AMOUNT_PROMEDIO\") / F.col(\"TOTAL_AMOUNT_PROMEDIO\") * 100)\n",
    "    .withColumn(\"PCT_CONGESTION_OVER_TOTAL\", F.col(\"CONGESTION_SURCHARGE_PROMEDIO\") / F.col(\"TOTAL_AMOUNT_PROMEDIO\") * 100)\n",
    "    .orderBy(F.desc(\"TOLLS_AMOUNT_PROMEDIO\")))\n",
    "df_impacto_zona.show(truncate=False)"
   ]
  },
  {
   "cell_type": "code",
   "execution_count": 19,
   "id": "2b95d4d0-a00f-419b-9c25-25ee9198d29f",
   "metadata": {},
   "outputs": [
    {
     "ename": "NameError",
     "evalue": "name 'df_viajes_tipo' is not defined",
     "output_type": "error",
     "traceback": [
      "\u001b[0;31m---------------------------------------------------------------------------\u001b[0m",
      "\u001b[0;31mNameError\u001b[0m                                 Traceback (most recent call last)",
      "Cell \u001b[0;32mIn[19], line 3\u001b[0m\n\u001b[1;32m      1\u001b[0m \u001b[38;5;66;03m#Proporción de viajes cortos vs largos por borough y estacionalidad.\u001b[39;00m\n\u001b[0;32m----> 3\u001b[0m df_proporcion_por_duracion \u001b[38;5;241m=\u001b[39m \u001b[43mdf_viajes_tipo\u001b[49m\u001b[38;5;241m.\u001b[39mgroupBy(\u001b[38;5;124m\"\u001b[39m\u001b[38;5;124mPU_BOROUGH\u001b[39m\u001b[38;5;124m\"\u001b[39m, \u001b[38;5;124m\"\u001b[39m\u001b[38;5;124mMONTH\u001b[39m\u001b[38;5;124m\"\u001b[39m)\u001b[38;5;241m.\u001b[39magg(F\u001b[38;5;241m.\u001b[39mcount(\u001b[38;5;124m\"\u001b[39m\u001b[38;5;124m*\u001b[39m\u001b[38;5;124m\"\u001b[39m)\u001b[38;5;241m.\u001b[39malias(\u001b[38;5;124m\"\u001b[39m\u001b[38;5;124mCANTIDAD_VIAJES\u001b[39m\u001b[38;5;124m\"\u001b[39m), F\u001b[38;5;241m.\u001b[39mcount(F\u001b[38;5;241m.\u001b[39mwhen(F\u001b[38;5;241m.\u001b[39mcol(\u001b[38;5;124m\"\u001b[39m\u001b[38;5;124mTRIP_DURATION_MIN\u001b[39m\u001b[38;5;124m\"\u001b[39m) \u001b[38;5;241m<\u001b[39m\u001b[38;5;241m=\u001b[39m \u001b[38;5;241m10\u001b[39m, \u001b[38;5;241m1\u001b[39m))\u001b[38;5;241m.\u001b[39malias(\u001b[38;5;124m\"\u001b[39m\u001b[38;5;124mCANTIDAD_VIAJES_CORTOS\u001b[39m\u001b[38;5;124m\"\u001b[39m), \n\u001b[1;32m      4\u001b[0m                                                                                 F\u001b[38;5;241m.\u001b[39mcount(F\u001b[38;5;241m.\u001b[39mwhen(F\u001b[38;5;241m.\u001b[39mcol(\u001b[38;5;124m\"\u001b[39m\u001b[38;5;124mTRIP_DURATION_MIN\u001b[39m\u001b[38;5;124m\"\u001b[39m) \u001b[38;5;241m>\u001b[39m \u001b[38;5;241m10\u001b[39m, \u001b[38;5;241m1\u001b[39m))\u001b[38;5;241m.\u001b[39malias(\u001b[38;5;124m\"\u001b[39m\u001b[38;5;124mCANTIDAD_VIAJES_LARGOS\u001b[39m\u001b[38;5;124m\"\u001b[39m))\u001b[38;5;241m.\u001b[39mwithColumn(\u001b[38;5;124m\"\u001b[39m\u001b[38;5;124mPCT_VIAJES_CORTOS\u001b[39m\u001b[38;5;124m\"\u001b[39m, (F\u001b[38;5;241m.\u001b[39mcol(\u001b[38;5;124m\"\u001b[39m\u001b[38;5;124mCANTIDAD_VIAJES_CORTOS\u001b[39m\u001b[38;5;124m\"\u001b[39m) \u001b[38;5;241m/\u001b[39m F\u001b[38;5;241m.\u001b[39mcol(\u001b[38;5;124m\"\u001b[39m\u001b[38;5;124mCANTIDAD_VIAJES\u001b[39m\u001b[38;5;124m\"\u001b[39m))\u001b[38;5;241m*\u001b[39m\u001b[38;5;241m100\u001b[39m)\u001b[38;5;241m.\u001b[39mwithColumn(\u001b[38;5;124m\"\u001b[39m\u001b[38;5;124mPCT_VIAJES_LARGOS\u001b[39m\u001b[38;5;124m\"\u001b[39m, (F\u001b[38;5;241m.\u001b[39mcol(\u001b[38;5;124m\"\u001b[39m\u001b[38;5;124mCANTIDAD_VIAJES_LARGOS\u001b[39m\u001b[38;5;124m\"\u001b[39m) \u001b[38;5;241m/\u001b[39m F\u001b[38;5;241m.\u001b[39mcol(\u001b[38;5;124m\"\u001b[39m\u001b[38;5;124mCANTIDAD_VIAJES\u001b[39m\u001b[38;5;124m\"\u001b[39m))\u001b[38;5;241m*\u001b[39m\u001b[38;5;241m100\u001b[39m) \n\u001b[1;32m      5\u001b[0m df_proporcion_por_duracion\u001b[38;5;241m.\u001b[39mshow(truncate\u001b[38;5;241m=\u001b[39m\u001b[38;5;28;01mFalse\u001b[39;00m)\n",
      "\u001b[0;31mNameError\u001b[0m: name 'df_viajes_tipo' is not defined"
     ]
    }
   ],
   "source": [
    "#Proporción de viajes cortos vs largos por borough y estacionalidad.\n",
    "\n",
    "df_proporcion_por_duracion = df_viajes_tipo.groupBy(\"PU_BOROUGH\", \"MONTH\").agg(F.count(\"*\").alias(\"CANTIDAD_VIAJES\"), F.count(F.when(F.col(\"TRIP_DURATION_MIN\") <= 10, 1)).alias(\"CANTIDAD_VIAJES_CORTOS\"), \n",
    "                                                                                F.count(F.when(F.col(\"TRIP_DURATION_MIN\") > 10, 1)).alias(\"CANTIDAD_VIAJES_LARGOS\")).withColumn(\"PCT_VIAJES_CORTOS\", (F.col(\"CANTIDAD_VIAJES_CORTOS\") / F.col(\"CANTIDAD_VIAJES\"))*100).withColumn(\"PCT_VIAJES_LARGOS\", (F.col(\"CANTIDAD_VIAJES_LARGOS\") / F.col(\"CANTIDAD_VIAJES\"))*100) \n",
    "df_proporcion_por_duracion.show(truncate=False)"
   ]
  },
  {
   "cell_type": "code",
   "execution_count": null,
   "id": "31b24940-11c4-4048-b76f-5ead558ed248",
   "metadata": {},
   "outputs": [],
   "source": [
    "#Diferencias por vendor en avg_speed_mph y trip_duration_min.\n",
    "\n",
    "df_vendor_speed_duration= df_obt_taxis.groupBy(\"VENDOR_NORMALIZADO\").agg(F.avg(\"AVG_SPEED_MPH\").alias(\"SPEED_PROMEDIO\"), F.avg(\"TRIP_DURATION_MIN\").alias(\"TRIP_DURATION_PROMEDIO\"))\n",
    "df_vendor_speed_duration.show(truncate=False)"
   ]
  },
  {
   "cell_type": "code",
   "execution_count": null,
   "id": "a65d4616-9827-4413-81bb-fd3ce427e5ad",
   "metadata": {},
   "outputs": [],
   "source": [
    "#Relación método de pago ↔ tip_amount por hora.\n",
    "\n",
    "df_pago_tip_amount= df_obt_taxis.groupBy(\"PAYMENT_TYPE_NORMALIZADO\").agg(F.avg(\"TIP_AMOUNT\").alias(\"TIP_AMOUNT_PROMEDIO\"))\n",
    "df_pago_tip_amount.show(truncate=False)"
   ]
  },
  {
   "cell_type": "code",
   "execution_count": null,
   "id": "850ad8fc-0a21-4a0e-bc2e-598f6e4c0669",
   "metadata": {},
   "outputs": [],
   "source": [
    "#Zonas con percentil 99 de duración/distancia fuera de rango (posible congestión/eventos).\n",
    "\n",
    "percentiles = df_obt_taxis.select(F.expr(\"percentile_approx(TRIP_DURATION_MIN, 0.99)\").alias(\"P99_TRIP_DURATION_MIN\"),F.expr(\"percentile_approx(TRIP_DISTANCE, 0.99)\").alias(\"P99_TRIP_DISTANCE\")).collect()[0]\n",
    "p99_duration = percentiles[\"P99_TRIP_DURATION_MIN\"]\n",
    "p99_distance = percentiles[\"P99_TRIP_DISTANCE\"]\n",
    "df_fuera_rango = df_obt_taxis.filter((F.col(\"TRIP_DURATION_MIN\") > p99_duration) | (F.col(\"TRIP_DISTANCE\") > p99_distance))\n",
    "df_zonas_fuera_rango = df_fuera_rango.groupBy(\"PU_ZONE\").agg(F.count(1).alias(\"CANTIDAD_VIAJES_FUERA_DE_RANGO\")).orderBy(F.col(\"CANTIDAD_VIAJES_FUERA_DE_RANGO\").desc())\n",
    "df_zonas_fuera_rango.show(10, truncate=False)"
   ]
  },
  {
   "cell_type": "code",
   "execution_count": null,
   "id": "0e573efb-54d2-40fd-9ab4-07b4cbbdfd52",
   "metadata": {},
   "outputs": [],
   "source": [
    "#Yield por milla (total_amount/trip_distance) por borough y hora.\n",
    "\n",
    "df_yield = df_obt_taxis.withColumn(\"YIELD_POR_MILLA\", F.col(\"TOTAL_AMOUNT\") / F.col(\"TRIP_DISTANCE\"))\n",
    "df_yield_por_borough_hora = (df_yield.groupBy(\"PU_BOROUGH\", \"PICKUP_HOUR\").agg(F.avg(\"YIELD_POR_MILLA\").alias(\"YIELD_PROMEDIO_POR_MILLA\"),F.count(1).alias(\"CANTIDAD_VIAJES\")))\n",
    "df_yield_por_borough_hora.show(truncate=False)"
   ]
  },
  {
   "cell_type": "code",
   "execution_count": null,
   "id": "b2be88c5-d17b-4def-944b-40ffc37c3bd3",
   "metadata": {},
   "outputs": [],
   "source": [
    "#Cambios YoY en volumen y ticket promedio por service_type.\n",
    "\n",
    "df_service_year = (df_obt_taxis.groupBy(\"SOURCE_SERVICE\", \"YEAR\").agg(F.count(\"*\").alias(\"CANTIDAD_VIAJES\"),F.avg(\"TOTAL_AMOUNT\").alias(\"PROMEDIO_TOTAL_AMOUNT\")))\n",
    "window_spec = Window.partitionBy(\"SOURCE_SERVICE\").orderBy(\"YEAR\")\n",
    "df_yoy = (df_service_year.withColumn(\"CAMBIO_VIAJES_YOY\", (F.col(\"CANTIDAD_VIAJES\") - F.lag(\"CANTIDAD_VIAJES\").over(window_spec)) / F.lag(\"CANTIDAD_VIAJES\").over(window_spec) * 100).withColumn(\"CAMBIO_TICKET_YOY\", (F.col(\"PROMEDIO_TOTAL_AMOUNT\") - F.lag(\"PROMEDIO_TOTAL_AMOUNT\").over(window_spec)) / F.lag(\"PROMEDIO_TOTAL_AMOUNT\").over(window_spec) * 100))\n",
    "df_yoy.show(truncate=False)"
   ]
  },
  {
   "cell_type": "code",
   "execution_count": null,
   "id": "5f7d84f2-06c8-43ac-81b0-dcea42217ab4",
   "metadata": {},
   "outputs": [],
   "source": [
    "#Días con alta congestion_surcharge: efecto en total_amount vs días “normales”\n",
    "\n",
    "#Se pone valor como umbral\n",
    "df_congestion = df_obt_taxis.withColumn(\"TIPO_DIA_CONGESTION\",F.when(F.col(\"CONGESTION_SURCHARGE\") > 2.5, F.lit(\"ALTA\")).otherwise(F.lit(\"NORMAL\")))\n",
    "df_efecto_congestion = (df_congestion.groupBy(\"TIPO_DIA_CONGESTION\").agg( F.count(\"*\").alias(\"CANTIDAD_VIAJES\"),F.avg(\"TOTAL_AMOUNT\").alias(\"PROMEDIO_TOTAL_AMOUNT\")))"
   ]
  },
  {
   "cell_type": "code",
   "execution_count": null,
   "id": "c1b3ffc4-a45c-430e-bf42-e1bed636602c",
   "metadata": {},
   "outputs": [],
   "source": []
  }
 ],
 "metadata": {
  "kernelspec": {
   "display_name": "Python 3 (ipykernel)",
   "language": "python",
   "name": "python3"
  },
  "language_info": {
   "codemirror_mode": {
    "name": "ipython",
    "version": 3
   },
   "file_extension": ".py",
   "mimetype": "text/x-python",
   "name": "python",
   "nbconvert_exporter": "python",
   "pygments_lexer": "ipython3",
   "version": "3.11.6"
  }
 },
 "nbformat": 4,
 "nbformat_minor": 5
}
